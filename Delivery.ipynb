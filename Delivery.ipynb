{
 "cells": [
  {
   "cell_type": "code",
   "execution_count": 1,
   "metadata": {},
   "outputs": [],
   "source": [
    "import os\n",
    "os.chdir(r'G:\\Ext_Disk_SharedFolder\\Career\\Oracle\\ADW Challenge - Candidate Pack')\n",
    "os.getcwd()\n",
    "import pandas as pd"
   ]
  },
  {
   "cell_type": "code",
   "execution_count": 2,
   "metadata": {},
   "outputs": [],
   "source": [
    "Deliveries = pd.read_excel('PCW15 F Deliveries.xlsx')"
   ]
  },
  {
   "cell_type": "code",
   "execution_count": 4,
   "metadata": {},
   "outputs": [
    {
     "data": {
      "text/html": [
       "<div>\n",
       "<style scoped>\n",
       "    .dataframe tbody tr th:only-of-type {\n",
       "        vertical-align: middle;\n",
       "    }\n",
       "\n",
       "    .dataframe tbody tr th {\n",
       "        vertical-align: top;\n",
       "    }\n",
       "\n",
       "    .dataframe thead th {\n",
       "        text-align: right;\n",
       "    }\n",
       "</style>\n",
       "<table border=\"1\" class=\"dataframe\">\n",
       "  <thead>\n",
       "    <tr style=\"text-align: right;\">\n",
       "      <th></th>\n",
       "      <th>Order #</th>\n",
       "      <th>Units</th>\n",
       "      <th>Delivery Date</th>\n",
       "      <th>Order Date</th>\n",
       "      <th>Delivery Store Id</th>\n",
       "      <th>Days to Deliver</th>\n",
       "    </tr>\n",
       "  </thead>\n",
       "  <tbody>\n",
       "    <tr>\n",
       "      <th>0</th>\n",
       "      <td>Ord 0001</td>\n",
       "      <td>52</td>\n",
       "      <td>2012-08-02</td>\n",
       "      <td>2012-08-01</td>\n",
       "      <td>1</td>\n",
       "      <td>1</td>\n",
       "    </tr>\n",
       "    <tr>\n",
       "      <th>1</th>\n",
       "      <td>Ord 0002</td>\n",
       "      <td>38</td>\n",
       "      <td>2012-08-04</td>\n",
       "      <td>2012-08-01</td>\n",
       "      <td>2</td>\n",
       "      <td>3</td>\n",
       "    </tr>\n",
       "    <tr>\n",
       "      <th>2</th>\n",
       "      <td>Ord 0003</td>\n",
       "      <td>40</td>\n",
       "      <td>2012-08-05</td>\n",
       "      <td>2012-08-01</td>\n",
       "      <td>3</td>\n",
       "      <td>4</td>\n",
       "    </tr>\n",
       "    <tr>\n",
       "      <th>3</th>\n",
       "      <td>Ord 0004</td>\n",
       "      <td>50</td>\n",
       "      <td>2012-08-05</td>\n",
       "      <td>2012-08-01</td>\n",
       "      <td>4</td>\n",
       "      <td>4</td>\n",
       "    </tr>\n",
       "    <tr>\n",
       "      <th>4</th>\n",
       "      <td>Ord 0005</td>\n",
       "      <td>20</td>\n",
       "      <td>2012-08-04</td>\n",
       "      <td>2012-08-01</td>\n",
       "      <td>5</td>\n",
       "      <td>3</td>\n",
       "    </tr>\n",
       "  </tbody>\n",
       "</table>\n",
       "</div>"
      ],
      "text/plain": [
       "    Order #  Units Delivery Date Order Date  Delivery Store Id  \\\n",
       "0  Ord 0001     52    2012-08-02 2012-08-01                  1   \n",
       "1  Ord 0002     38    2012-08-04 2012-08-01                  2   \n",
       "2  Ord 0003     40    2012-08-05 2012-08-01                  3   \n",
       "3  Ord 0004     50    2012-08-05 2012-08-01                  4   \n",
       "4  Ord 0005     20    2012-08-04 2012-08-01                  5   \n",
       "\n",
       "   Days to Deliver  \n",
       "0                1  \n",
       "1                3  \n",
       "2                4  \n",
       "3                4  \n",
       "4                3  "
      ]
     },
     "execution_count": 4,
     "metadata": {},
     "output_type": "execute_result"
    }
   ],
   "source": [
    "Deliveries.head()"
   ]
  },
  {
   "cell_type": "code",
   "execution_count": 9,
   "metadata": {},
   "outputs": [
    {
     "data": {
      "text/plain": [
       "(12932, 6)"
      ]
     },
     "execution_count": 9,
     "metadata": {},
     "output_type": "execute_result"
    }
   ],
   "source": [
    "Deliveries.shape"
   ]
  },
  {
   "cell_type": "code",
   "execution_count": 10,
   "metadata": {},
   "outputs": [
    {
     "data": {
      "text/plain": [
       "12932"
      ]
     },
     "execution_count": 10,
     "metadata": {},
     "output_type": "execute_result"
    }
   ],
   "source": [
    "# Order numbers are not duplicated\n",
    "Deliveries['Order #'].value_counts().sum()"
   ]
  },
  {
   "cell_type": "code",
   "execution_count": null,
   "metadata": {},
   "outputs": [],
   "source": []
  }
 ],
 "metadata": {
  "kernelspec": {
   "display_name": "Python 3",
   "language": "python",
   "name": "python3"
  },
  "language_info": {
   "codemirror_mode": {
    "name": "ipython",
    "version": 3
   },
   "file_extension": ".py",
   "mimetype": "text/x-python",
   "name": "python",
   "nbconvert_exporter": "python",
   "pygments_lexer": "ipython3",
   "version": "3.7.3"
  }
 },
 "nbformat": 4,
 "nbformat_minor": 2
}
